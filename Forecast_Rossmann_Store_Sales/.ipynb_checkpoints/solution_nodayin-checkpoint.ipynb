{
 "cells": [
  {
   "cell_type": "markdown",
   "metadata": {
    "collapsed": true
   },
   "source": [
    "# 过程设计\n",
    "\n",
    "一、获取、组数据\n",
    "\n",
    "二、查看数据特点，并进行一定的可视化\n",
    "\n",
    "三、处理错误数据\n",
    "\n",
    "四、归一化、正态分布化\n",
    "\n",
    "五、One-hot编码\n",
    "\n",
    "六、主成分分析（降维）\n",
    "\n",
    "七、确定模型\n",
    "\n",
    "八、训练\n",
    "\n",
    "九、调优\n",
    "\n",
    "十、计算结果"
   ]
  },
  {
   "cell_type": "markdown",
   "metadata": {},
   "source": [
    "**一、获取数据**"
   ]
  },
  {
   "cell_type": "code",
   "execution_count": 120,
   "metadata": {
    "scrolled": true
   },
   "outputs": [
    {
     "name": "stderr",
     "output_type": "stream",
     "text": [
      "/Users/guest/anaconda/envs/python36/lib/python3.6/site-packages/IPython/core/interactiveshell.py:2698: DtypeWarning: Columns (7) have mixed types. Specify dtype option on import or set low_memory=False.\n",
      "  interactivity=interactivity, compiler=compiler, result=result)\n"
     ]
    }
   ],
   "source": [
    "%matplotlib inline\n",
    "%config InlineBackend.figure_format = 'retina'\n",
    "\n",
    "# 1、获取数据\n",
    "import pandas as pd\n",
    "import numpy as np\n",
    "import matplotlib.pyplot as plt\n",
    "from datetime import datetime\n",
    "\n",
    "data_store = pd.read_csv('../data/store.csv')\n",
    "data_test = pd.read_csv('../data/test.csv')\n",
    "data_train = pd.read_csv('../data/train.csv')\n",
    "\n",
    "# 增加客单价、Store分类、人流量 等商店参数\n",
    "data_train_count = data_train\n",
    "data_train_count['count'] = 1\n",
    "data_train_count = data_train_count.groupby(\"Store\").sum()\n",
    "data_train_count[\"salesPerCustomer\"] = data_train_count[\"Sales\"]/data_train_count[\"Customers\"]\n",
    "data_train_count[\"salesPerCount\"] = data_train_count[\"Sales\"]/data_train_count[\"count\"]\n",
    "data_train_count[\"customerPerCount\"] = data_train_count[\"Customers\"]/data_train_count[\"count\"]\n",
    "data_train_count = data_train_count.reset_index()\n",
    "\n",
    "# 将两个表合为一个\n",
    "data_feature_all = data_test.append(data_train)\n",
    "data_test[\"from\"]=1\n",
    "data_train[\"from\"]=0\n",
    "data_customer_entire=data_train.append(data_test)\n",
    "\n",
    "# 将商店参数加上\n",
    "data_train_count_real = data_train_count.loc[:,[\"Store\",\"salesPerCustomer\",\"salesPerCount\",\"customerPerCount\"]]\n",
    "data_store_all = pd.merge(data_store,data_train_count_real,on=\"Store\")\n",
    "data_feature_all = pd.merge(data_customer_entire,data_store_all,on=\"Store\")"
   ]
  },
  {
   "cell_type": "markdown",
   "metadata": {},
   "source": [
    "**二、查看数据特点，并进行一定的可视化**"
   ]
  },
  {
   "cell_type": "code",
   "execution_count": 121,
   "metadata": {},
   "outputs": [
    {
     "name": "stdout",
     "output_type": "stream",
     "text": [
      "1017209\n",
      "Store            0.0\n",
      "DayOfWeek        0.0\n",
      "Date             0.0\n",
      "Sales            0.0\n",
      "Customers        0.0\n",
      "Open             0.0\n",
      "Promo            0.0\n",
      "StateHoliday     0.0\n",
      "SchoolHoliday    0.0\n",
      "count            0.0\n",
      "from             0.0\n",
      "dtype: float64\n",
      "41088\n",
      "Id               0.000000\n",
      "Store            0.000000\n",
      "DayOfWeek        0.000000\n",
      "Date             0.000000\n",
      "Open             0.000268\n",
      "Promo            0.000000\n",
      "StateHoliday     0.000000\n",
      "SchoolHoliday    0.000000\n",
      "from             0.000000\n",
      "dtype: float64\n",
      "1115\n",
      "Store                        0.000000\n",
      "StoreType                    0.000000\n",
      "Assortment                   0.000000\n",
      "CompetitionDistance          0.002691\n",
      "CompetitionOpenSinceMonth    0.317489\n",
      "CompetitionOpenSinceYear     0.317489\n",
      "Promo2                       0.000000\n",
      "Promo2SinceWeek              0.487892\n",
      "Promo2SinceYear              0.487892\n",
      "PromoInterval                0.487892\n",
      "dtype: float64\n"
     ]
    }
   ],
   "source": [
    "#缺失值：\n",
    "print(len(data_train))\n",
    "print(data_train.isnull().sum()/len(data_train))\n",
    "print(len(data_test))\n",
    "print(data_test.isnull().sum()/len(data_test))\n",
    "print(len(data_store))\n",
    "print(data_store.isnull().sum()/len(data_store))"
   ]
  },
  {
   "cell_type": "code",
   "execution_count": 122,
   "metadata": {},
   "outputs": [
    {
     "name": "stdout",
     "output_type": "stream",
     "text": [
      "【Date】 字段空值有：:0条\n"
     ]
    }
   ],
   "source": [
    "# # Date 处理：\n",
    "# # 1、拆分Date\n",
    "\n",
    "# #获取有多少个Nan值\n",
    "def calculateNanCount(x,strColum):\n",
    "    cntNan = len(x[x[strColum].isnull()])\n",
    "    print(\"【{0}】 字段空值有：:{1}条\".format(strColum,cntNan))\n",
    "\n",
    "# 获取日期时间\n",
    "def getDateUtil(x,strFormat):\n",
    "    datetimes = datetime.strptime(x[\"Date\"],\"%Y-%m-%d\")\n",
    "    return datetimes.strftime(strFormat)\n",
    "\n",
    "#转为日期类型\n",
    "data_feature_all[\"Date\"] = pd.to_datetime(data_feature_all[\"Date\"], format=\"%Y-%m-%d\", errors='ignore')\n",
    "data_feature_all[\"date_year\"] = data_feature_all[\"Date\"].dt.year\n",
    "data_feature_all[\"date_month\"] = data_feature_all[\"Date\"].dt.month\n",
    "data_feature_all[\"date_day\"] = data_feature_all[\"Date\"].dt.day\n",
    "# data_feature_all['DayOfYear'] = data_feature_all[\"Date\"].dt.dayofyear\n",
    "# data_feature_all['WeekOfYear'] = data_feature_all[\"Date\"].dt.weekofyear\n",
    "\n",
    "#处理成int类型\n",
    "# data_feature_all[\"date_day\"] = data_feature_all[\"date_day\"].astype(\"int\")\n",
    "# data_feature_all[\"date_month\"] = data_feature_all[\"date_month\"].astype(\"int\")\n",
    "# data_feature_all[\"date_year\"] = data_feature_all[\"date_year\"].astype(\"int\")\n",
    "\n",
    "# 2、处理Nan\n",
    "calculateNanCount(data_feature_all,\"Date\")"
   ]
  },
  {
   "cell_type": "code",
   "execution_count": 123,
   "metadata": {},
   "outputs": [
    {
     "name": "stdout",
     "output_type": "stream",
     "text": [
      "【StoreType】 字段空值有：:0条\n"
     ]
    }
   ],
   "source": [
    "# StoreType 处理：\n",
    "# Onehot 编码 ：a、b、c、d \n",
    "StoreTypeKeys = [\"a\",\"b\",\"c\",\"d\"]\n",
    "\n",
    "def insertOneHot(x,strCol,arrValues):\n",
    "    for val in arrValues:\n",
    "        newCol = strCol+\"_\"+val\n",
    "        x[newCol]= 0\n",
    "        x.loc[x[strCol]==val,newCol] = 1\n",
    "    return x\n",
    "\n",
    "insertOneHot(data_feature_all,\"StoreType\",StoreTypeKeys)\n",
    "\n",
    "# 2、处理Nan\n",
    "calculateNanCount(data_feature_all,\"StoreType\")"
   ]
  },
  {
   "cell_type": "code",
   "execution_count": 124,
   "metadata": {},
   "outputs": [
    {
     "name": "stdout",
     "output_type": "stream",
     "text": [
      "【Assortment】 字段空值有：:0条\n"
     ]
    }
   ],
   "source": [
    "# Assortment 处理：\n",
    "# Onehot 编码 ：a、b、c \n",
    "AssortmentKeys = [\"a\",\"b\",\"c\"]\n",
    "\n",
    "insertOneHot(data_feature_all,\"Assortment\",AssortmentKeys)\n",
    "\n",
    "\n",
    "# 处理an\n",
    "calculateNanCount(data_feature_all,\"Assortment\")"
   ]
  },
  {
   "cell_type": "code",
   "execution_count": 125,
   "metadata": {},
   "outputs": [
    {
     "name": "stdout",
     "output_type": "stream",
     "text": [
      "【CompetitionDistance】 字段空值有：:2738条\n"
     ]
    },
    {
     "data": {
      "image/png": "[encoded data removed]",
      "text/plain": [
       "<matplotlib.figure.Figure at 0x159743780>"
      ]
     },
     "metadata": {
      "image/png": {
       "height": 250,
       "width": 396
      }
     },
     "output_type": "display_data"
    }
   ],
   "source": [
    "# CompetitionDistance 处理\n",
    "# 处理Nan\n",
    "calculateNanCount(data_feature_all,\"CompetitionDistance\")\n",
    "\n",
    "def insertMeanValue(x,strColum):\n",
    "    meanVal = np.mean(x[strColum])\n",
    "    x.loc[x[strColum].isnull(),strColum] = meanVal\n",
    "\n",
    "insertMeanValue(data_feature_all,\"CompetitionDistance\")\n",
    "\n",
    "# 归一化\n",
    "from sklearn.preprocessing import MinMaxScaler\n",
    "def normalizationData(x,strColum):\n",
    "    scaler = MinMaxScaler()\n",
    "    x[strColum] = scaler.fit_transform(x[strColum])\n",
    "\n",
    "#正太分布化\n",
    "def handleLog(x,strTitle):\n",
    "    # 转换为正态分布\n",
    "    fig1, axes = plt.subplots(nrows=2, ncols=1)\n",
    "    x[strTitle].hist(bins=100,ax=axes[0])\n",
    "    x[strTitle] = np.log1p(x[strTitle])\n",
    "    x[strTitle].hist(bins=100,ax=axes[1])\n",
    "#     normalizationData(x,strTitle)\n",
    "#     x[strTitle].hist(bins=100,ax=axes[1])\n",
    "    \n",
    "# 转换为正态分布\n",
    "handleLog(data_feature_all,\"CompetitionDistance\")\n",
    "# fig1, axes = plt.subplots(nrows=2, ncols=1)\n",
    "# data_feature_all[\"CompetitionDistance\"].hist(bins=100,ax=axes[0])\n",
    "# data_feature_all[\"CompetitionDistance\"] = np.log1p(data_feature_all[\"CompetitionDistance\"])\n",
    "# data_feature_all[\"CompetitionDistance\"].hist(bins=100,ax=axes[1])\n",
    "# normalizationData(data_feature_all,\"CompetitionDistance\")\n",
    "# data_feature_all[\"CompetitionDistance\"].hist(bins=100,ax=axes[1])"
   ]
  },
  {
   "cell_type": "code",
   "execution_count": 126,
   "metadata": {},
   "outputs": [
    {
     "name": "stdout",
     "output_type": "stream",
     "text": [
      "【CompetitionOpenSinceMonth】 字段空值有：:338564条\n"
     ]
    },
    {
     "name": "stderr",
     "output_type": "stream",
     "text": [
      "/Users/guest/anaconda/envs/python36/lib/python3.6/site-packages/sklearn/preprocessing/data.py:321: DeprecationWarning: Passing 1d arrays as data is deprecated in 0.17 and will raise ValueError in 0.19. Reshape your data either using X.reshape(-1, 1) if your data has a single feature or X.reshape(1, -1) if it contains a single sample.\n",
      "  warnings.warn(DEPRECATION_MSG_1D, DeprecationWarning)\n",
      "/Users/guest/anaconda/envs/python36/lib/python3.6/site-packages/sklearn/preprocessing/data.py:356: DeprecationWarning: Passing 1d arrays as data is deprecated in 0.17 and will raise ValueError in 0.19. Reshape your data either using X.reshape(-1, 1) if your data has a single feature or X.reshape(1, -1) if it contains a single sample.\n",
      "  warnings.warn(DEPRECATION_MSG_1D, DeprecationWarning)\n"
     ]
    }
   ],
   "source": [
    "# CompetitionOpenSinceMonth 处理\n",
    "\n",
    "# 处理Nan\n",
    "calculateNanCount(data_feature_all,\"CompetitionOpenSinceMonth\")\n",
    "\n",
    "insertMeanValue(data_feature_all,\"CompetitionOpenSinceMonth\")\n",
    "\n",
    "normalizationData(data_feature_all,\"CompetitionOpenSinceMonth\")"
   ]
  },
  {
   "cell_type": "code",
   "execution_count": 127,
   "metadata": {},
   "outputs": [
    {
     "name": "stdout",
     "output_type": "stream",
     "text": [
      "【CompetitionOpenSinceYear】 字段空值有：:338564条\n"
     ]
    },
    {
     "name": "stderr",
     "output_type": "stream",
     "text": [
      "/Users/guest/anaconda/envs/python36/lib/python3.6/site-packages/sklearn/preprocessing/data.py:321: DeprecationWarning: Passing 1d arrays as data is deprecated in 0.17 and will raise ValueError in 0.19. Reshape your data either using X.reshape(-1, 1) if your data has a single feature or X.reshape(1, -1) if it contains a single sample.\n",
      "  warnings.warn(DEPRECATION_MSG_1D, DeprecationWarning)\n",
      "/Users/guest/anaconda/envs/python36/lib/python3.6/site-packages/sklearn/preprocessing/data.py:356: DeprecationWarning: Passing 1d arrays as data is deprecated in 0.17 and will raise ValueError in 0.19. Reshape your data either using X.reshape(-1, 1) if your data has a single feature or X.reshape(1, -1) if it contains a single sample.\n",
      "  warnings.warn(DEPRECATION_MSG_1D, DeprecationWarning)\n"
     ]
    }
   ],
   "source": [
    "# CompetitionOpenSinceYear 处理\n",
    "\n",
    "#处理Nan\n",
    "calculateNanCount(data_feature_all,\"CompetitionOpenSinceYear\")\n",
    "\n",
    "insertMeanValue(data_feature_all,\"CompetitionOpenSinceYear\")\n",
    "\n",
    "normalizationData(data_feature_all,\"CompetitionOpenSinceYear\")\n"
   ]
  },
  {
   "cell_type": "code",
   "execution_count": 128,
   "metadata": {
    "collapsed": true
   },
   "outputs": [],
   "source": [
    "# data_feature_all['CompetitionOpen'] = 12 * (data_feature_all[\"date_year\"] - data_feature_all[\"CompetitionOpenSinceYear\"]) + (data_feature_all[\"date_month\"] - data_feature_all[\"CompetitionOpenSinceMonth\"])\n",
    "# data_feature_all['PromoOpen'] = 12 * (data_feature_all[\"date_year\"] - data_feature_all[\"Promo2SinceYear\"]) + \\\n",
    "#         (data_feature_all[\"WeekOfYear\"] - data_feature_all[\"Promo2SinceWeek\"]) / 4.0\n",
    "# data_feature_all['PromoOpen'] = data_feature_all[\"PromoOpen\"].apply(lambda x: x if x > 0 else 0)"
   ]
  },
  {
   "cell_type": "code",
   "execution_count": 129,
   "metadata": {},
   "outputs": [
    {
     "name": "stdout",
     "output_type": "stream",
     "text": [
      "【Promo2SinceWeek】 字段空值有：:525263条\n"
     ]
    },
    {
     "name": "stderr",
     "output_type": "stream",
     "text": [
      "/Users/guest/anaconda/envs/python36/lib/python3.6/site-packages/sklearn/preprocessing/data.py:321: DeprecationWarning: Passing 1d arrays as data is deprecated in 0.17 and will raise ValueError in 0.19. Reshape your data either using X.reshape(-1, 1) if your data has a single feature or X.reshape(1, -1) if it contains a single sample.\n",
      "  warnings.warn(DEPRECATION_MSG_1D, DeprecationWarning)\n",
      "/Users/guest/anaconda/envs/python36/lib/python3.6/site-packages/sklearn/preprocessing/data.py:356: DeprecationWarning: Passing 1d arrays as data is deprecated in 0.17 and will raise ValueError in 0.19. Reshape your data either using X.reshape(-1, 1) if your data has a single feature or X.reshape(1, -1) if it contains a single sample.\n",
      "  warnings.warn(DEPRECATION_MSG_1D, DeprecationWarning)\n"
     ]
    }
   ],
   "source": [
    "# 处理Nan\n",
    "calculateNanCount(data_feature_all,\"Promo2SinceWeek\")\n",
    "\n",
    "insertMeanValue(data_feature_all,\"Promo2SinceWeek\")\n",
    "\n",
    "normalizationData(data_feature_all,\"Promo2SinceWeek\")"
   ]
  },
  {
   "cell_type": "code",
   "execution_count": 130,
   "metadata": {},
   "outputs": [
    {
     "name": "stdout",
     "output_type": "stream",
     "text": [
      "【Promo2SinceYear】 字段空值有：:525263条\n"
     ]
    },
    {
     "name": "stderr",
     "output_type": "stream",
     "text": [
      "/Users/guest/anaconda/envs/python36/lib/python3.6/site-packages/sklearn/preprocessing/data.py:321: DeprecationWarning: Passing 1d arrays as data is deprecated in 0.17 and will raise ValueError in 0.19. Reshape your data either using X.reshape(-1, 1) if your data has a single feature or X.reshape(1, -1) if it contains a single sample.\n",
      "  warnings.warn(DEPRECATION_MSG_1D, DeprecationWarning)\n",
      "/Users/guest/anaconda/envs/python36/lib/python3.6/site-packages/sklearn/preprocessing/data.py:356: DeprecationWarning: Passing 1d arrays as data is deprecated in 0.17 and will raise ValueError in 0.19. Reshape your data either using X.reshape(-1, 1) if your data has a single feature or X.reshape(1, -1) if it contains a single sample.\n",
      "  warnings.warn(DEPRECATION_MSG_1D, DeprecationWarning)\n"
     ]
    }
   ],
   "source": [
    "# 处理Nan\n",
    "calculateNanCount(data_feature_all,\"Promo2SinceYear\")\n",
    "\n",
    "insertMeanValue(data_feature_all,\"Promo2SinceYear\")\n",
    "\n",
    "normalizationData(data_feature_all,\"Promo2SinceYear\")"
   ]
  },
  {
   "cell_type": "code",
   "execution_count": 131,
   "metadata": {},
   "outputs": [
    {
     "name": "stdout",
     "output_type": "stream",
     "text": [
      "【PromoInterval】 字段空值有：:525263条\n",
      "Customers                           float64\n",
      "Date                         datetime64[ns]\n",
      "DayOfWeek                             int64\n",
      "Id                                  float64\n",
      "Open                                float64\n",
      "Promo                                 int64\n",
      "Sales                               float64\n",
      "SchoolHoliday                         int64\n",
      "StateHoliday                         object\n",
      "Store                                 int64\n",
      "count                               float64\n",
      "from                                  int64\n",
      "StoreType                            object\n",
      "Assortment                           object\n",
      "CompetitionDistance                 float64\n",
      "CompetitionOpenSinceMonth           float64\n",
      "CompetitionOpenSinceYear            float64\n",
      "Promo2                                int64\n",
      "Promo2SinceWeek                     float64\n",
      "Promo2SinceYear                     float64\n",
      "PromoInterval                        object\n",
      "salesPerCustomer                    float64\n",
      "salesPerCount                       float64\n",
      "customerPerCount                    float64\n",
      "date_year                             int64\n",
      "date_month                            int64\n",
      "date_day                              int64\n",
      "DayOfYear                             int64\n",
      "WeekOfYear                            int64\n",
      "StoreType_a                           int64\n",
      "StoreType_b                           int64\n",
      "StoreType_c                           int64\n",
      "StoreType_d                           int64\n",
      "Assortment_a                          int64\n",
      "Assortment_b                          int64\n",
      "Assortment_c                          int64\n",
      "dtype: object\n"
     ]
    }
   ],
   "source": [
    "#处理 Promotnterval\n",
    "calculateNanCount(data_feature_all,\"PromoInterval\")\n",
    "\n",
    "PromoIntervalKeys = [\"Jan\",\"Feb\",\"Mar\",\"Apr\",\"May\",\"Jun\",\"Jul\",\"Aug\",\"Sept\",\"Oct\",\"Nov\",\"Dec\",]\n",
    "print(data_feature_all.dtypes)\n",
    "for keyVal in PromoIntervalKeys:\n",
    "    keyValEntire = \"PromoInterval\"+\"_\"+keyVal\n",
    "    data_feature_all[keyValEntire] = data_feature_all[\"PromoInterval\"].apply(lambda x:1 if str(x).find(keyVal)>=0 else 0)"
   ]
  },
  {
   "cell_type": "code",
   "execution_count": 132,
   "metadata": {},
   "outputs": [
    {
     "name": "stderr",
     "output_type": "stream",
     "text": [
      "/Users/guest/anaconda/envs/python36/lib/python3.6/site-packages/ipykernel_launcher.py:15: UserWarning: Boolean Series key will be reindexed to match DataFrame index.\n",
      "  from ipykernel import kernelapp as app\n",
      "/Users/guest/anaconda/envs/python36/lib/python3.6/site-packages/ipykernel_launcher.py:16: UserWarning: Boolean Series key will be reindexed to match DataFrame index.\n",
      "  app.launch_new_instance()\n"
     ]
    },
    {
     "data": {
      "text/plain": [
       "array([<matplotlib.axes._subplots.AxesSubplot object at 0x142ca62e8>], dtype=object)"
      ]
     },
     "execution_count": 132,
     "metadata": {},
     "output_type": "execute_result"
    },
    {
     "data": {
      "image/png": "[encoded data removed]",
      "text/plain": [
       "<matplotlib.figure.Figure at 0x1446f5320>"
      ]
     },
     "metadata": {
      "image/png": {
       "height": 263,
       "width": 396
      }
     },
     "output_type": "display_data"
    }
   ],
   "source": [
    "# Sales 处理\n",
    "# data_feature_all[\"Sales\"] = np.log1p(data_feature_all[\"Sales\"])\n",
    "# data_feature_all.loc[data_feature_all[\"Sales\"].isnull(),\"Sales\"] = 0\n",
    "\n",
    "# calculateNanCount(data_feature_all,\"Sales\")\n",
    "# normalizationData(data_feature_all,\"Sales\")\n",
    "# data_feature_all[\"Sales\"].hist(bins=100)\n",
    "\n",
    "fig1, axes = plt.subplots(nrows=2, ncols=1)\n",
    "from_sales = data_feature_all[data_feature_all[\"from\"]==0][\"Sales\"]\n",
    "pd.DataFrame(from_sales).hist(bins=100,ax=axes[0])\n",
    "sales_Q1 = np.percentile(from_sales,25)\n",
    "sales_Q3 = np.percentile(from_sales,75)\n",
    "sales_QR = sales_Q3 - sales_Q1\n",
    "data_feature_all.drop(data_feature_all[data_feature_all[\"from\"]==0][data_feature_all[\"Sales\"]>(sales_Q3 + 1.5*sales_QR)].index,axis=0,inplace=True)\n",
    "data_feature_all.drop(data_feature_all[data_feature_all[\"from\"]==0][data_feature_all[\"Sales\"]<(sales_Q1 - 1.5*sales_QR)].index,axis=0,inplace=True)\n",
    "pd.DataFrame(data_feature_all[\"Sales\"]).hist(bins=100,ax=axes[1])\n"
   ]
  },
  {
   "cell_type": "code",
   "execution_count": 133,
   "metadata": {},
   "outputs": [
    {
     "name": "stdout",
     "output_type": "stream",
     "text": [
      "【StateHoliday】 字段空值有：:0条\n"
     ]
    }
   ],
   "source": [
    "# 处理 StateHoliday\n",
    "StateHolidayKeys = [\"a\",\"b\",\"c\",\"0\"]\n",
    "\n",
    "insertOneHot(data_feature_all,\"StateHoliday\",StateHolidayKeys)\n",
    "\n",
    "# 处理an\n",
    "calculateNanCount(data_feature_all,\"StateHoliday\")"
   ]
  },
  {
   "cell_type": "markdown",
   "metadata": {},
   "source": [
    "**错误逻辑处理**"
   ]
  },
  {
   "cell_type": "code",
   "execution_count": 134,
   "metadata": {
    "collapsed": true
   },
   "outputs": [],
   "source": [
    "\n",
    "#1、没开门且有销量\n",
    "#2、没开门且有客户\n",
    "# data_feature_all_open_no_Sales = (data_feature_all[data_feature_all[\"Open\"]==1][data_feature_all[\"Sales\"]<=0])\n",
    "# data_feature_all_Sales_no_open = (data_feature_all[data_feature_all[\"Open\"]==0][data_feature_all[\"Sales\"]>0])\n",
    "# print(data_feature_all_Sales_no_open.shape)\n",
    "# print(data_feature_all_open_no_Sales.shape)\n",
    "# data_feature_all.drop(data_feature_all_open_no_Sales.index,inplace=True)\n"
   ]
  },
  {
   "cell_type": "code",
   "execution_count": 135,
   "metadata": {
    "collapsed": true
   },
   "outputs": [],
   "source": [
    "# 去掉customer、Store、count、Date、StoreType、Assortment、PromoIntervalPromoInterval 列\n",
    "data_feature_all.drop(\"Customers\",axis=1,inplace=True)\n",
    "# data_feature_all.drop(\"Store\",axis=1,inplace=True)\n",
    "data_feature_all.drop(\"count\",axis=1,inplace=True)\n",
    "data_feature_all.drop(\"Date\",axis=1,inplace=True)\n",
    "data_feature_all.drop(\"StoreType\",axis=1,inplace=True)\n",
    "data_feature_all.drop(\"Assortment\",axis=1,inplace=True)\n",
    "data_feature_all.drop(\"PromoInterval\",axis=1,inplace=True)\n",
    "data_feature_all.drop(\"StateHoliday\",axis=1,inplace=True)\n"
   ]
  },
  {
   "cell_type": "code",
   "execution_count": 136,
   "metadata": {},
   "outputs": [
    {
     "name": "stdout",
     "output_type": "stream",
     "text": [
      "CompetitionDistance:\n",
      "0\n",
      "CompetitionOpenSinceMonth:\n",
      "0\n",
      "CompetitionOpenSinceYear:\n",
      "0\n",
      "Promo2SinceWeek:\n",
      "0\n",
      "Promo2SinceYear:\n",
      "0\n",
      "Open:\n",
      "0\n"
     ]
    }
   ],
   "source": [
    "\n",
    "# 处理空值，填充固定值\n",
    "def handleNanWithValue(x,strTitle,value):\n",
    "    x = x.fillna({strTitle:value})\n",
    "    print(strTitle+\":\")\n",
    "    print(x[x[strTitle].isnull()].shape[0])\n",
    "\n",
    "handleNanWithValue(data_feature_all,\"CompetitionDistance\",0)\n",
    "handleNanWithValue(data_feature_all,\"CompetitionOpenSinceMonth\",0)\n",
    "handleNanWithValue(data_feature_all,\"CompetitionOpenSinceYear\",0)\n",
    "handleNanWithValue(data_feature_all,\"Promo2SinceWeek\",0)\n",
    "handleNanWithValue(data_feature_all,\"Promo2SinceYear\",0)\n",
    "handleNanWithValue(data_feature_all,\"Open\",1)\n",
    "\n",
    "# data_feature_all = data_feature_all.fillna({\"Open\":1})\n",
    "\n",
    "# print(data_feature_all[data_feature_all[\"Open\"].isnull()])\n",
    "\n",
    "# data_feature_all = data_feature_all.fillna({\"CompetitionDistance\":0})\n",
    "# print(data_feature_all[data_feature_all[\"CompetitionDistance\"].isnull()])\n",
    "# handleLog(data_feature_all,\"CompetitionDistance\")"
   ]
  },
  {
   "cell_type": "code",
   "execution_count": 137,
   "metadata": {},
   "outputs": [
    {
     "name": "stderr",
     "output_type": "stream",
     "text": [
      "/Users/guest/anaconda/envs/python36/lib/python3.6/site-packages/ipykernel_launcher.py:2: UserWarning: Boolean Series key will be reindexed to match DataFrame index.\n",
      "  \n",
      "/Users/guest/anaconda/envs/python36/lib/python3.6/site-packages/ipykernel_launcher.py:3: UserWarning: Boolean Series key will be reindexed to match DataFrame index.\n",
      "  This is separate from the ipykernel package so we can avoid doing imports until\n"
     ]
    }
   ],
   "source": [
    "# 去掉没开门的和销售额为0的数据\n",
    "data_feature_all = data_feature_all.drop(data_feature_all[data_feature_all[\"from\"]==0][data_feature_all[\"Open\"] == 0].index,axis=0)\n",
    "data_feature_all = data_feature_all.drop(data_feature_all[data_feature_all[\"from\"]==0][data_feature_all[\"Sales\"] <= 0].index,axis=0)"
   ]
  },
  {
   "cell_type": "code",
   "execution_count": 138,
   "metadata": {},
   "outputs": [
    {
     "name": "stdout",
     "output_type": "stream",
     "text": [
      "Index(['DayOfWeek', 'Id', 'Open', 'Promo', 'Sales', 'SchoolHoliday', 'Store',\n",
      "       'from', 'CompetitionDistance', 'CompetitionOpenSinceMonth',\n",
      "       'CompetitionOpenSinceYear', 'Promo2', 'Promo2SinceWeek',\n",
      "       'Promo2SinceYear', 'salesPerCustomer', 'salesPerCount',\n",
      "       'customerPerCount', 'date_year', 'date_month', 'date_day', 'DayOfYear',\n",
      "       'WeekOfYear', 'StoreType_a', 'StoreType_b', 'StoreType_c',\n",
      "       'StoreType_d', 'Assortment_a', 'Assortment_b', 'Assortment_c',\n",
      "       'PromoInterval_Jan', 'PromoInterval_Feb', 'PromoInterval_Mar',\n",
      "       'PromoInterval_Apr', 'PromoInterval_May', 'PromoInterval_Jun',\n",
      "       'PromoInterval_Jul', 'PromoInterval_Aug', 'PromoInterval_Sept',\n",
      "       'PromoInterval_Oct', 'PromoInterval_Nov', 'PromoInterval_Dec',\n",
      "       'StateHoliday_a', 'StateHoliday_b', 'StateHoliday_c', 'StateHoliday_0'],\n",
      "      dtype='object')\n"
     ]
    },
    {
     "data": {
      "image/png": "[encoded data removed]",
      "text/plain": [
       "<matplotlib.figure.Figure at 0x1446b9400>"
      ]
     },
     "metadata": {
      "image/png": {
       "height": 250,
       "width": 396
      }
     },
     "output_type": "display_data"
    }
   ],
   "source": [
    "data_feature_all[\"CompetitionOpenSinceYear\"].hist(bins=100)\n",
    "# plt.boxplot(data_feature_all[\"CompetitionDistance\"], sym =\"o\", whis = 1.5)\n",
    "# colums_n = int(len(data_feature_all.columns)/4)\n",
    "# fig, axes = plt.subplots(nrows=colums_n, ncols=1,figsize=(60,200))\n",
    "print(data_feature_all.columns)\n",
    "# for i in range(colums_n):\n",
    "#     colName = data_feature_all.columns[i]\n",
    "#     data_feature_all[colName].hist(bins=100,ax=axes[i])\n",
    "#     axes[i].set_title(colName)\n",
    "\n",
    "# ['Customers', 'Date', 'DayOfWeek', 'Id', 'Open', 'Promo', 'Sales',\n",
    "#        'SchoolHoliday', 'StateHoliday', 'Store', 'count', 'from', 'StoreType',\n",
    "#        'Assortment', 'CompetitionDistance', 'CompetitionOpenSinceMonth',\n",
    "#        'CompetitionOpenSinceYear', 'Promo2', 'Promo2SinceWeek',\n",
    "#        'Promo2SinceYear', 'PromoInterval', 'salesPerCustomer', 'salesPerCount',\n",
    "#        'customerPerCount', 'date_year', 'date_month', 'date_day',\n",
    "#        'StoreType_a', 'StoreType_b', 'StoreType_c', 'StoreType_d'],\n",
    "#       dtype='object')"
   ]
  },
  {
   "cell_type": "markdown",
   "metadata": {},
   "source": [
    "**六、PCA主成分分析降维**"
   ]
  },
  {
   "cell_type": "code",
   "execution_count": 139,
   "metadata": {
    "scrolled": true
   },
   "outputs": [
    {
     "name": "stderr",
     "output_type": "stream",
     "text": [
      "/Users/guest/anaconda/envs/python36/lib/python3.6/site-packages/ipykernel_launcher.py:15: SettingWithCopyWarning: \n",
      "A value is trying to be set on a copy of a slice from a DataFrame\n",
      "\n",
      "See the caveats in the documentation: http://pandas.pydata.org/pandas-docs/stable/indexing.html#indexing-view-versus-copy\n",
      "  from ipykernel import kernelapp as app\n"
     ]
    }
   ],
   "source": [
    "from sklearn.decomposition import PCA\n",
    "\n",
    "# 测试数据\n",
    "data_x_test = data_feature_all[data_feature_all[\"from\"]==1]\n",
    "data_x_test = data_x_test.sort_values(by=['Id'],axis=0,ascending=True)\n",
    "data_x_test = data_x_test.reset_index()\n",
    "data_x_test.drop(\"Id\",axis=1,inplace=True)\n",
    "data_x_test.drop(\"index\",axis=1,inplace=True)\n",
    "data_x_test.drop(\"Sales\",axis=1,inplace=True)\n",
    "# 处理空Open\n",
    "data_x_test.loc[data_x_test[\"Open\"].isnull(),\"Open\"] = 1\n",
    "\n",
    "# 训练数据\n",
    "data_all_Train = data_feature_all[data_feature_all[\"from\"]==0]\n",
    "data_all_Train.drop(\"Id\",axis=1,inplace=True)\n",
    "data_x_Train = data_all_Train.drop(\"Sales\",axis=1)\n",
    "\n",
    "#区分测试数据与正式数据\n",
    "# pca= PCA(n_components = 18)\n",
    "# pca.fit(data_x_Train)"
   ]
  },
  {
   "cell_type": "code",
   "execution_count": 140,
   "metadata": {
    "scrolled": false
   },
   "outputs": [
    {
     "name": "stdout",
     "output_type": "stream",
     "text": [
      "[0]\teval-rmse:5022.55\ttrain-rmse:5024.81\teval-rmspe:0.692589\ttrain-rmspe:0.694013\n",
      "Multiple eval metrics have been passed: 'train-rmspe' will be used for early stopping.\n",
      "\n",
      "Will train until train-rmspe hasn't improved in 50 rounds.\n",
      "[1]\teval-rmse:3596.98\ttrain-rmse:3594.36\teval-rmspe:0.483506\ttrain-rmspe:0.490337\n",
      "[2]\teval-rmse:2636.97\ttrain-rmse:2632.45\teval-rmspe:0.343468\ttrain-rmspe:0.357453\n",
      "[3]\teval-rmse:1956.34\ttrain-rmse:1945.18\teval-rmspe:0.254421\ttrain-rmspe:0.27768\n",
      "[4]\teval-rmse:1504.12\ttrain-rmse:1486.33\teval-rmspe:0.200735\ttrain-rmspe:0.234433\n",
      "[5]\teval-rmse:1221.59\ttrain-rmse:1196.78\teval-rmspe:0.171781\ttrain-rmspe:0.213712\n",
      "[6]\teval-rmse:1036.18\ttrain-rmse:1005.87\teval-rmspe:0.155255\ttrain-rmspe:0.203124\n",
      "[7]\teval-rmse:936.12\ttrain-rmse:900.502\teval-rmspe:0.149772\ttrain-rmspe:0.201113\n",
      "[8]\teval-rmse:865.173\ttrain-rmse:819.584\teval-rmspe:0.145363\ttrain-rmspe:0.196921\n",
      "[9]\teval-rmse:821.289\ttrain-rmse:770.188\teval-rmspe:0.14378\ttrain-rmspe:0.195422\n",
      "[10]\teval-rmse:795.146\ttrain-rmse:738.993\teval-rmspe:0.142974\ttrain-rmspe:0.196083\n",
      "[11]\teval-rmse:781.101\ttrain-rmse:720.307\teval-rmspe:0.142646\ttrain-rmspe:0.188251\n",
      "[12]\teval-rmse:766.394\ttrain-rmse:702.479\teval-rmspe:0.141318\ttrain-rmspe:0.187418\n",
      "[13]\teval-rmse:757.57\ttrain-rmse:690.871\teval-rmspe:0.139567\ttrain-rmspe:0.185747\n",
      "[14]\teval-rmse:750.976\ttrain-rmse:680.071\teval-rmspe:0.139156\ttrain-rmspe:0.184128\n",
      "[15]\teval-rmse:742.993\ttrain-rmse:667.798\teval-rmspe:0.138317\ttrain-rmspe:0.179231\n",
      "[16]\teval-rmse:738.389\ttrain-rmse:661.054\teval-rmspe:0.13781\ttrain-rmspe:0.17828\n",
      "[17]\teval-rmse:726.999\ttrain-rmse:647.49\teval-rmspe:0.136101\ttrain-rmspe:0.176647\n",
      "[18]\teval-rmse:721.358\ttrain-rmse:638.291\teval-rmspe:0.135406\ttrain-rmspe:0.175573\n",
      "[19]\teval-rmse:714.454\ttrain-rmse:628.918\teval-rmspe:0.134055\ttrain-rmspe:0.173706\n",
      "[20]\teval-rmse:712.214\ttrain-rmse:624.907\teval-rmspe:0.133878\ttrain-rmspe:0.17345\n",
      "[21]\teval-rmse:704.507\ttrain-rmse:615.866\teval-rmspe:0.132297\ttrain-rmspe:0.172239\n",
      "[22]\teval-rmse:701.913\ttrain-rmse:611.447\teval-rmspe:0.131813\ttrain-rmspe:0.171634\n",
      "[23]\teval-rmse:700.877\ttrain-rmse:609.532\teval-rmspe:0.131491\ttrain-rmspe:0.171119\n",
      "[24]\teval-rmse:698.326\ttrain-rmse:604.683\teval-rmspe:0.131142\ttrain-rmspe:0.170283\n",
      "[25]\teval-rmse:697.717\ttrain-rmse:603.011\teval-rmspe:0.131049\ttrain-rmspe:0.170088\n",
      "[26]\teval-rmse:689.45\ttrain-rmse:593.266\teval-rmspe:0.129241\ttrain-rmspe:0.168193\n",
      "[27]\teval-rmse:684.173\ttrain-rmse:586.223\teval-rmspe:0.12858\ttrain-rmspe:0.167486\n",
      "[28]\teval-rmse:681.146\ttrain-rmse:582.078\teval-rmspe:0.128218\ttrain-rmspe:0.166909\n",
      "[29]\teval-rmse:679.702\ttrain-rmse:579.493\teval-rmspe:0.12784\ttrain-rmspe:0.16651\n",
      "[30]\teval-rmse:678.874\ttrain-rmse:577.088\teval-rmspe:0.127781\ttrain-rmspe:0.166289\n",
      "[31]\teval-rmse:677.041\ttrain-rmse:574.895\teval-rmspe:0.127302\ttrain-rmspe:0.165933\n",
      "[32]\teval-rmse:673.312\ttrain-rmse:571.136\teval-rmspe:0.126628\ttrain-rmspe:0.16544\n",
      "[33]\teval-rmse:672.797\ttrain-rmse:568.454\teval-rmspe:0.126531\ttrain-rmspe:0.165048\n",
      "[34]\teval-rmse:671.72\ttrain-rmse:566.681\teval-rmspe:0.126447\ttrain-rmspe:0.164941\n",
      "[35]\teval-rmse:671.019\ttrain-rmse:565.106\teval-rmspe:0.126336\ttrain-rmspe:0.164653\n",
      "[36]\teval-rmse:669.873\ttrain-rmse:561.962\teval-rmspe:0.126122\ttrain-rmspe:0.164582\n",
      "[37]\teval-rmse:670.178\ttrain-rmse:559.948\teval-rmspe:0.126351\ttrain-rmspe:0.164342\n",
      "[38]\teval-rmse:669.695\ttrain-rmse:558.311\teval-rmspe:0.126359\ttrain-rmspe:0.16418\n",
      "[39]\teval-rmse:667.365\ttrain-rmse:555.726\teval-rmspe:0.125972\ttrain-rmspe:0.16389\n",
      "[40]\teval-rmse:664.996\ttrain-rmse:552.294\teval-rmspe:0.125557\ttrain-rmspe:0.1635\n",
      "[41]\teval-rmse:661.715\ttrain-rmse:546.889\teval-rmspe:0.124883\ttrain-rmspe:0.162291\n",
      "[42]\teval-rmse:661.313\ttrain-rmse:545.282\teval-rmspe:0.124886\ttrain-rmspe:0.16218\n",
      "[43]\teval-rmse:660.611\ttrain-rmse:543.741\teval-rmspe:0.124844\ttrain-rmspe:0.16207\n",
      "[44]\teval-rmse:658.653\ttrain-rmse:540.651\teval-rmspe:0.124653\ttrain-rmspe:0.161688\n",
      "[45]\teval-rmse:656.862\ttrain-rmse:538.628\teval-rmspe:0.124169\ttrain-rmspe:0.161466\n",
      "[46]\teval-rmse:656.528\ttrain-rmse:538.017\teval-rmspe:0.124118\ttrain-rmspe:0.161375\n",
      "[47]\teval-rmse:655.366\ttrain-rmse:535.761\teval-rmspe:0.123947\ttrain-rmspe:0.161213\n",
      "[48]\teval-rmse:654.571\ttrain-rmse:533.945\teval-rmspe:0.123771\ttrain-rmspe:0.160711\n",
      "[49]\teval-rmse:650.765\ttrain-rmse:528.75\teval-rmspe:0.123078\ttrain-rmspe:0.160221\n",
      "[50]\teval-rmse:648.51\ttrain-rmse:526.519\teval-rmspe:0.122564\ttrain-rmspe:0.159842\n",
      "[51]\teval-rmse:647.554\ttrain-rmse:524.26\teval-rmspe:0.122165\ttrain-rmspe:0.159268\n",
      "[52]\teval-rmse:645.698\ttrain-rmse:521.579\teval-rmspe:0.121867\ttrain-rmspe:0.158814\n",
      "[53]\teval-rmse:643.727\ttrain-rmse:518.985\teval-rmspe:0.121693\ttrain-rmspe:0.158513\n",
      "[54]\teval-rmse:642.469\ttrain-rmse:516.521\teval-rmspe:0.121395\ttrain-rmspe:0.158241\n",
      "[55]\teval-rmse:640.946\ttrain-rmse:513.916\teval-rmspe:0.12113\ttrain-rmspe:0.157958\n",
      "[56]\teval-rmse:640.04\ttrain-rmse:512.594\teval-rmspe:0.120953\ttrain-rmspe:0.157815\n",
      "[57]\teval-rmse:639.666\ttrain-rmse:510.892\teval-rmspe:0.120945\ttrain-rmspe:0.157662\n",
      "[58]\teval-rmse:638.212\ttrain-rmse:508.222\teval-rmspe:0.120726\ttrain-rmspe:0.157373\n",
      "[59]\teval-rmse:637.046\ttrain-rmse:505.317\teval-rmspe:0.120594\ttrain-rmspe:0.156622\n",
      "[60]\teval-rmse:636.27\ttrain-rmse:503.595\teval-rmspe:0.120432\ttrain-rmspe:0.156102\n",
      "[61]\teval-rmse:635.03\ttrain-rmse:501.752\teval-rmspe:0.120338\ttrain-rmspe:0.155908\n",
      "[62]\teval-rmse:633.681\ttrain-rmse:499.172\teval-rmspe:0.120166\ttrain-rmspe:0.155351\n",
      "[63]\teval-rmse:631.418\ttrain-rmse:496.139\teval-rmspe:0.119646\ttrain-rmspe:0.154982\n",
      "[64]\teval-rmse:630.297\ttrain-rmse:495.1\teval-rmspe:0.119544\ttrain-rmspe:0.154447\n",
      "[65]\teval-rmse:629.145\ttrain-rmse:493.288\teval-rmspe:0.119504\ttrain-rmspe:0.154162\n",
      "[66]\teval-rmse:628.244\ttrain-rmse:491.371\teval-rmspe:0.119311\ttrain-rmspe:0.153944\n",
      "[67]\teval-rmse:627.188\ttrain-rmse:489.489\teval-rmspe:0.119099\ttrain-rmspe:0.153623\n",
      "[68]\teval-rmse:627.086\ttrain-rmse:487.718\teval-rmspe:0.119317\ttrain-rmspe:0.153219\n",
      "[69]\teval-rmse:626.511\ttrain-rmse:485.766\teval-rmspe:0.11917\ttrain-rmspe:0.150988\n",
      "[70]\teval-rmse:625.833\ttrain-rmse:483.952\teval-rmspe:0.119064\ttrain-rmspe:0.150798\n",
      "[71]\teval-rmse:623.925\ttrain-rmse:481.446\teval-rmspe:0.118751\ttrain-rmspe:0.150446\n",
      "[72]\teval-rmse:623.47\ttrain-rmse:479.212\teval-rmspe:0.118912\ttrain-rmspe:0.142537\n",
      "[73]\teval-rmse:621.9\ttrain-rmse:477.482\teval-rmspe:0.118775\ttrain-rmspe:0.141815\n",
      "[74]\teval-rmse:621.264\ttrain-rmse:476.205\teval-rmspe:0.118684\ttrain-rmspe:0.141486\n",
      "[75]\teval-rmse:621.112\ttrain-rmse:475.323\teval-rmspe:0.118611\ttrain-rmspe:0.141308\n",
      "[76]\teval-rmse:620.708\ttrain-rmse:473.672\teval-rmspe:0.11853\ttrain-rmspe:0.140788\n",
      "[77]\teval-rmse:620.177\ttrain-rmse:472.435\teval-rmspe:0.118429\ttrain-rmspe:0.140741\n",
      "[78]\teval-rmse:619.702\ttrain-rmse:471.157\teval-rmspe:0.118398\ttrain-rmspe:0.140603\n",
      "[79]\teval-rmse:619.486\ttrain-rmse:469.134\teval-rmspe:0.118334\ttrain-rmspe:0.14036\n",
      "[80]\teval-rmse:619.318\ttrain-rmse:468.074\teval-rmspe:0.118301\ttrain-rmspe:0.140188\n",
      "[81]\teval-rmse:618.629\ttrain-rmse:465.524\teval-rmspe:0.118228\ttrain-rmspe:0.138114\n",
      "[82]\teval-rmse:618.015\ttrain-rmse:463.965\teval-rmspe:0.117978\ttrain-rmspe:0.136841\n",
      "[83]\teval-rmse:617.007\ttrain-rmse:462.606\teval-rmspe:0.117863\ttrain-rmspe:0.136488\n",
      "[84]\teval-rmse:616.875\ttrain-rmse:461.908\teval-rmspe:0.117853\ttrain-rmspe:0.136422\n",
      "[85]\teval-rmse:616.246\ttrain-rmse:460.495\teval-rmspe:0.117609\ttrain-rmspe:0.134645\n",
      "[86]\teval-rmse:616.284\ttrain-rmse:458.748\teval-rmspe:0.117695\ttrain-rmspe:0.134468\n",
      "[87]\teval-rmse:615.181\ttrain-rmse:455.97\teval-rmspe:0.117503\ttrain-rmspe:0.133962\n",
      "[88]\teval-rmse:613.933\ttrain-rmse:454.344\teval-rmspe:0.117254\ttrain-rmspe:0.132671\n",
      "[89]\teval-rmse:613.934\ttrain-rmse:452.955\teval-rmspe:0.117231\ttrain-rmspe:0.132468\n",
      "[90]\teval-rmse:613.827\ttrain-rmse:451.367\teval-rmspe:0.11723\ttrain-rmspe:0.131968\n",
      "[91]\teval-rmse:613.44\ttrain-rmse:449.801\teval-rmspe:0.117132\ttrain-rmspe:0.131908\n",
      "[92]\teval-rmse:613.195\ttrain-rmse:448.704\teval-rmspe:0.117085\ttrain-rmspe:0.131835\n",
      "[93]\teval-rmse:612.852\ttrain-rmse:447.328\teval-rmspe:0.117174\ttrain-rmspe:0.131699\n",
      "[94]\teval-rmse:612.04\ttrain-rmse:445.826\teval-rmspe:0.117104\ttrain-rmspe:0.131721\n",
      "[95]\teval-rmse:611.604\ttrain-rmse:444.613\teval-rmspe:0.117025\ttrain-rmspe:0.131591\n",
      "[96]\teval-rmse:610.884\ttrain-rmse:443.746\teval-rmspe:0.11698\ttrain-rmspe:0.130818\n",
      "[97]\teval-rmse:610.307\ttrain-rmse:442.668\teval-rmspe:0.116878\ttrain-rmspe:0.130656\n"
     ]
    },
    {
     "name": "stdout",
     "output_type": "stream",
     "text": [
      "[98]\teval-rmse:610.214\ttrain-rmse:441.198\teval-rmspe:0.116898\ttrain-rmspe:0.130124\n",
      "[99]\teval-rmse:609.987\ttrain-rmse:440.677\teval-rmspe:0.116869\ttrain-rmspe:0.130087\n",
      "[100]\teval-rmse:609.591\ttrain-rmse:439.436\teval-rmspe:0.116772\ttrain-rmspe:0.129902\n",
      "[101]\teval-rmse:609.029\ttrain-rmse:438.392\teval-rmspe:0.116679\ttrain-rmspe:0.129748\n",
      "[102]\teval-rmse:608.24\ttrain-rmse:436.791\teval-rmspe:0.116688\ttrain-rmspe:0.129628\n",
      "[103]\teval-rmse:607.808\ttrain-rmse:435.464\teval-rmspe:0.116648\ttrain-rmspe:0.129414\n",
      "[104]\teval-rmse:606.971\ttrain-rmse:433.463\teval-rmspe:0.116526\ttrain-rmspe:0.12933\n",
      "[105]\teval-rmse:606.298\ttrain-rmse:431.758\teval-rmspe:0.116389\ttrain-rmspe:0.129128\n",
      "[106]\teval-rmse:605.452\ttrain-rmse:429.616\teval-rmspe:0.116282\ttrain-rmspe:0.128835\n",
      "[107]\teval-rmse:605.272\ttrain-rmse:428.253\teval-rmspe:0.116201\ttrain-rmspe:0.12849\n",
      "[108]\teval-rmse:604.813\ttrain-rmse:427.177\teval-rmspe:0.116179\ttrain-rmspe:0.128159\n",
      "[109]\teval-rmse:604.619\ttrain-rmse:426.163\teval-rmspe:0.116175\ttrain-rmspe:0.127946\n",
      "[110]\teval-rmse:604.26\ttrain-rmse:424.833\teval-rmspe:0.116134\ttrain-rmspe:0.127802\n",
      "[111]\teval-rmse:604.202\ttrain-rmse:423.134\teval-rmspe:0.116183\ttrain-rmspe:0.127624\n",
      "[112]\teval-rmse:604.047\ttrain-rmse:422.349\teval-rmspe:0.116139\ttrain-rmspe:0.127531\n",
      "[113]\teval-rmse:603.844\ttrain-rmse:420.858\teval-rmspe:0.116187\ttrain-rmspe:0.127151\n",
      "[114]\teval-rmse:603.702\ttrain-rmse:419.65\teval-rmspe:0.116203\ttrain-rmspe:0.126978\n",
      "[115]\teval-rmse:603.601\ttrain-rmse:418.296\teval-rmspe:0.116141\ttrain-rmspe:0.126926\n",
      "[116]\teval-rmse:602.831\ttrain-rmse:416.7\teval-rmspe:0.116079\ttrain-rmspe:0.12674\n",
      "[117]\teval-rmse:602.194\ttrain-rmse:414.962\teval-rmspe:0.116145\ttrain-rmspe:0.126404\n",
      "[118]\teval-rmse:602.15\ttrain-rmse:413.615\teval-rmspe:0.116273\ttrain-rmspe:0.126051\n",
      "[119]\teval-rmse:601.74\ttrain-rmse:412.608\teval-rmspe:0.116187\ttrain-rmspe:0.125905\n",
      "[120]\teval-rmse:601.488\ttrain-rmse:410.88\teval-rmspe:0.116172\ttrain-rmspe:0.125635\n",
      "[121]\teval-rmse:601.342\ttrain-rmse:409.62\teval-rmspe:0.116143\ttrain-rmspe:0.125481\n",
      "[122]\teval-rmse:601.25\ttrain-rmse:408.895\teval-rmspe:0.116113\ttrain-rmspe:0.12539\n",
      "[123]\teval-rmse:601.07\ttrain-rmse:408.201\teval-rmspe:0.116077\ttrain-rmspe:0.125301\n",
      "[124]\teval-rmse:600.296\ttrain-rmse:406.543\teval-rmspe:0.115938\ttrain-rmspe:0.125061\n",
      "[125]\teval-rmse:600.17\ttrain-rmse:405.999\teval-rmspe:0.115938\ttrain-rmspe:0.124937\n",
      "[126]\teval-rmse:599.915\ttrain-rmse:405.045\teval-rmspe:0.115952\ttrain-rmspe:0.124819\n",
      "[127]\teval-rmse:599.834\ttrain-rmse:403.781\teval-rmspe:0.11592\ttrain-rmspe:0.124574\n",
      "[128]\teval-rmse:599.706\ttrain-rmse:403.371\teval-rmspe:0.115894\ttrain-rmspe:0.124541\n",
      "[129]\teval-rmse:599.609\ttrain-rmse:402.791\teval-rmspe:0.115893\ttrain-rmspe:0.124501\n",
      "[130]\teval-rmse:599.484\ttrain-rmse:402.164\teval-rmspe:0.115897\ttrain-rmspe:0.124452\n",
      "[131]\teval-rmse:599.259\ttrain-rmse:401.347\teval-rmspe:0.115886\ttrain-rmspe:0.12439\n",
      "[132]\teval-rmse:598.564\ttrain-rmse:399.881\teval-rmspe:0.115794\ttrain-rmspe:0.124965\n",
      "[133]\teval-rmse:598.035\ttrain-rmse:398.624\teval-rmspe:0.115695\ttrain-rmspe:0.125178\n",
      "[134]\teval-rmse:597.874\ttrain-rmse:397.835\teval-rmspe:0.115653\ttrain-rmspe:0.125016\n",
      "[135]\teval-rmse:598.172\ttrain-rmse:397.063\teval-rmspe:0.115701\ttrain-rmspe:0.124948\n",
      "[136]\teval-rmse:598.212\ttrain-rmse:396.14\teval-rmspe:0.115715\ttrain-rmspe:0.124878\n",
      "[137]\teval-rmse:598.19\ttrain-rmse:394.695\teval-rmspe:0.115702\ttrain-rmspe:0.124588\n",
      "[138]\teval-rmse:598.363\ttrain-rmse:394.168\teval-rmspe:0.115687\ttrain-rmspe:0.124569\n",
      "[139]\teval-rmse:598.007\ttrain-rmse:392.788\teval-rmspe:0.115647\ttrain-rmspe:0.124292\n",
      "[140]\teval-rmse:597.96\ttrain-rmse:391.93\teval-rmspe:0.115708\ttrain-rmspe:0.12393\n",
      "[141]\teval-rmse:597.847\ttrain-rmse:391.075\teval-rmspe:0.115759\ttrain-rmspe:0.123869\n",
      "[142]\teval-rmse:597.765\ttrain-rmse:390.003\teval-rmspe:0.115777\ttrain-rmspe:0.123615\n",
      "[143]\teval-rmse:597.395\ttrain-rmse:388.918\teval-rmspe:0.115764\ttrain-rmspe:0.123245\n",
      "[144]\teval-rmse:597.379\ttrain-rmse:387.606\teval-rmspe:0.115764\ttrain-rmspe:0.122994\n",
      "[145]\teval-rmse:597.368\ttrain-rmse:386.787\teval-rmspe:0.115752\ttrain-rmspe:0.122875\n",
      "[146]\teval-rmse:597.287\ttrain-rmse:385.843\teval-rmspe:0.11572\ttrain-rmspe:0.122793\n",
      "[147]\teval-rmse:597.116\ttrain-rmse:385.375\teval-rmspe:0.115692\ttrain-rmspe:0.122795\n",
      "[148]\teval-rmse:596.735\ttrain-rmse:384.418\teval-rmspe:0.115708\ttrain-rmspe:0.122646\n",
      "[149]\teval-rmse:596.715\ttrain-rmse:383.517\teval-rmspe:0.115721\ttrain-rmspe:0.12261\n",
      "[150]\teval-rmse:596.687\ttrain-rmse:382.964\teval-rmspe:0.115732\ttrain-rmspe:0.122538\n",
      "[151]\teval-rmse:596.477\ttrain-rmse:382.2\teval-rmspe:0.115721\ttrain-rmspe:0.122343\n",
      "[152]\teval-rmse:596.411\ttrain-rmse:381.779\teval-rmspe:0.115721\ttrain-rmspe:0.122297\n",
      "[153]\teval-rmse:596.35\ttrain-rmse:380.693\teval-rmspe:0.1158\ttrain-rmspe:0.122051\n",
      "[154]\teval-rmse:596.191\ttrain-rmse:380.08\teval-rmspe:0.115784\ttrain-rmspe:0.121916\n",
      "[155]\teval-rmse:595.962\ttrain-rmse:379.018\teval-rmspe:0.115754\ttrain-rmspe:0.121754\n",
      "[156]\teval-rmse:595.863\ttrain-rmse:378.38\teval-rmspe:0.115743\ttrain-rmspe:0.121678\n",
      "[157]\teval-rmse:595.938\ttrain-rmse:377.87\teval-rmspe:0.115696\ttrain-rmspe:0.121648\n",
      "[158]\teval-rmse:595.768\ttrain-rmse:377.23\teval-rmspe:0.115618\ttrain-rmspe:0.121544\n",
      "[159]\teval-rmse:595.673\ttrain-rmse:376.527\teval-rmspe:0.115649\ttrain-rmspe:0.121471\n",
      "[160]\teval-rmse:595.664\ttrain-rmse:375.906\teval-rmspe:0.115623\ttrain-rmspe:0.120671\n",
      "[161]\teval-rmse:595.727\ttrain-rmse:375.104\teval-rmspe:0.115768\ttrain-rmspe:0.119209\n",
      "[162]\teval-rmse:595.637\ttrain-rmse:373.987\teval-rmspe:0.115746\ttrain-rmspe:0.119075\n",
      "[163]\teval-rmse:595.463\ttrain-rmse:373.046\teval-rmspe:0.115791\ttrain-rmspe:0.118985\n",
      "[164]\teval-rmse:595.528\ttrain-rmse:372.494\teval-rmspe:0.11577\ttrain-rmspe:0.118873\n",
      "[165]\teval-rmse:595.196\ttrain-rmse:371.111\teval-rmspe:0.115702\ttrain-rmspe:0.118321\n",
      "[166]\teval-rmse:594.97\ttrain-rmse:370.397\teval-rmspe:0.115685\ttrain-rmspe:0.118098\n",
      "[167]\teval-rmse:594.736\ttrain-rmse:369.54\teval-rmspe:0.115706\ttrain-rmspe:0.117991\n",
      "[168]\teval-rmse:594.583\ttrain-rmse:368.935\teval-rmspe:0.115682\ttrain-rmspe:0.117904\n",
      "[169]\teval-rmse:594.546\ttrain-rmse:368.437\teval-rmspe:0.115692\ttrain-rmspe:0.117859\n",
      "[170]\teval-rmse:594.57\ttrain-rmse:367.56\teval-rmspe:0.115708\ttrain-rmspe:0.117785\n",
      "[171]\teval-rmse:594.435\ttrain-rmse:367.141\teval-rmspe:0.115693\ttrain-rmspe:0.11776\n",
      "[172]\teval-rmse:594.602\ttrain-rmse:366.275\teval-rmspe:0.115729\ttrain-rmspe:0.117665\n",
      "[173]\teval-rmse:594.478\ttrain-rmse:365.75\teval-rmspe:0.115723\ttrain-rmspe:0.117448\n",
      "[174]\teval-rmse:594.38\ttrain-rmse:364.717\teval-rmspe:0.11577\ttrain-rmspe:0.11719\n",
      "[175]\teval-rmse:594.289\ttrain-rmse:363.905\teval-rmspe:0.115732\ttrain-rmspe:0.117058\n",
      "[176]\teval-rmse:594.202\ttrain-rmse:363.339\teval-rmspe:0.115708\ttrain-rmspe:0.116994\n",
      "[177]\teval-rmse:594.312\ttrain-rmse:362.495\teval-rmspe:0.115747\ttrain-rmspe:0.11624\n",
      "[178]\teval-rmse:594.121\ttrain-rmse:361.604\teval-rmspe:0.11574\ttrain-rmspe:0.116048\n",
      "[179]\teval-rmse:594.083\ttrain-rmse:361.003\teval-rmspe:0.115752\ttrain-rmspe:0.111242\n",
      "[180]\teval-rmse:593.958\ttrain-rmse:360.24\teval-rmspe:0.115722\ttrain-rmspe:0.111168\n",
      "[181]\teval-rmse:593.841\ttrain-rmse:359.188\teval-rmspe:0.115789\ttrain-rmspe:0.111011\n",
      "[182]\teval-rmse:593.912\ttrain-rmse:358.44\teval-rmspe:0.115795\ttrain-rmspe:0.110935\n",
      "[183]\teval-rmse:593.82\ttrain-rmse:357.848\teval-rmspe:0.115812\ttrain-rmspe:0.110868\n",
      "[184]\teval-rmse:593.555\ttrain-rmse:357.007\teval-rmspe:0.115802\ttrain-rmspe:0.110669\n",
      "[185]\teval-rmse:593.604\ttrain-rmse:356.162\teval-rmspe:0.115776\ttrain-rmspe:0.11026\n",
      "[186]\teval-rmse:593.532\ttrain-rmse:355.67\teval-rmspe:0.115783\ttrain-rmspe:0.110247\n",
      "[187]\teval-rmse:593.292\ttrain-rmse:354.972\teval-rmspe:0.115774\ttrain-rmspe:0.110201\n",
      "[188]\teval-rmse:593.332\ttrain-rmse:354.418\teval-rmspe:0.115847\ttrain-rmspe:0.110139\n",
      "[189]\teval-rmse:593.551\ttrain-rmse:353.51\teval-rmspe:0.116002\ttrain-rmspe:0.11\n",
      "[190]\teval-rmse:593.629\ttrain-rmse:353.029\teval-rmspe:0.115986\ttrain-rmspe:0.109977\n",
      "[191]\teval-rmse:593.796\ttrain-rmse:352.606\teval-rmspe:0.116107\ttrain-rmspe:0.109878\n",
      "[192]\teval-rmse:593.887\ttrain-rmse:351.858\teval-rmspe:0.116095\ttrain-rmspe:0.109273\n",
      "[193]\teval-rmse:593.982\ttrain-rmse:350.976\teval-rmspe:0.116109\ttrain-rmspe:0.109149\n",
      "[194]\teval-rmse:593.188\ttrain-rmse:350.224\teval-rmspe:0.115689\ttrain-rmspe:0.109095\n",
      "[195]\teval-rmse:593.072\ttrain-rmse:349.596\teval-rmspe:0.115668\ttrain-rmspe:0.108995\n",
      "[196]\teval-rmse:592.893\ttrain-rmse:349.205\teval-rmspe:0.11569\ttrain-rmspe:0.108937\n"
     ]
    },
    {
     "name": "stdout",
     "output_type": "stream",
     "text": [
      "[197]\teval-rmse:593.214\ttrain-rmse:348.59\teval-rmspe:0.115917\ttrain-rmspe:0.108853\n",
      "[198]\teval-rmse:593.275\ttrain-rmse:348.399\teval-rmspe:0.11593\ttrain-rmspe:0.108834\n",
      "[199]\teval-rmse:593.371\ttrain-rmse:347.36\teval-rmspe:0.115951\ttrain-rmspe:0.108872\n",
      "[200]\teval-rmse:593.324\ttrain-rmse:346.41\teval-rmspe:0.115913\ttrain-rmspe:0.108856\n",
      "[201]\teval-rmse:593.32\ttrain-rmse:345.536\teval-rmspe:0.115849\ttrain-rmspe:0.108722\n",
      "[202]\teval-rmse:593.044\ttrain-rmse:344.72\teval-rmspe:0.115785\ttrain-rmspe:0.10863\n",
      "[203]\teval-rmse:592.907\ttrain-rmse:344.055\teval-rmspe:0.115753\ttrain-rmspe:0.10855\n",
      "[204]\teval-rmse:592.637\ttrain-rmse:343.382\teval-rmspe:0.115649\ttrain-rmspe:0.10845\n",
      "[205]\teval-rmse:592.417\ttrain-rmse:342.94\teval-rmspe:0.11562\ttrain-rmspe:0.108397\n",
      "[206]\teval-rmse:592.537\ttrain-rmse:342.379\teval-rmspe:0.115581\ttrain-rmspe:0.108286\n",
      "[207]\teval-rmse:592.453\ttrain-rmse:341.715\teval-rmspe:0.115599\ttrain-rmspe:0.108131\n",
      "[208]\teval-rmse:592.584\ttrain-rmse:340.946\teval-rmspe:0.115621\ttrain-rmspe:0.107959\n",
      "[209]\teval-rmse:592.669\ttrain-rmse:340.177\teval-rmspe:0.115713\ttrain-rmspe:0.107852\n",
      "[210]\teval-rmse:592.6\ttrain-rmse:339.757\teval-rmspe:0.1157\ttrain-rmspe:0.107815\n",
      "[211]\teval-rmse:592.554\ttrain-rmse:339.063\teval-rmspe:0.115749\ttrain-rmspe:0.107697\n",
      "[212]\teval-rmse:592.516\ttrain-rmse:338.702\teval-rmspe:0.11575\ttrain-rmspe:0.107708\n",
      "[213]\teval-rmse:592.516\ttrain-rmse:338.153\teval-rmspe:0.115744\ttrain-rmspe:0.107617\n",
      "[214]\teval-rmse:592.497\ttrain-rmse:337.681\teval-rmspe:0.115748\ttrain-rmspe:0.107569\n",
      "[215]\teval-rmse:592.195\ttrain-rmse:336.889\teval-rmspe:0.115763\ttrain-rmspe:0.10749\n",
      "[216]\teval-rmse:592.32\ttrain-rmse:336.406\teval-rmspe:0.115779\ttrain-rmspe:0.107187\n",
      "[217]\teval-rmse:592.304\ttrain-rmse:335.857\teval-rmspe:0.11578\ttrain-rmspe:0.107126\n",
      "[218]\teval-rmse:592.405\ttrain-rmse:335.412\teval-rmspe:0.115767\ttrain-rmspe:0.10711\n",
      "[219]\teval-rmse:592.512\ttrain-rmse:334.71\teval-rmspe:0.115792\ttrain-rmspe:0.107054\n",
      "[220]\teval-rmse:592.345\ttrain-rmse:334.03\teval-rmspe:0.115779\ttrain-rmspe:0.107031\n",
      "[221]\teval-rmse:592.154\ttrain-rmse:333.376\teval-rmspe:0.115734\ttrain-rmspe:0.106967\n",
      "[222]\teval-rmse:591.494\ttrain-rmse:332.624\teval-rmspe:0.115514\ttrain-rmspe:0.106879\n",
      "[223]\teval-rmse:591.703\ttrain-rmse:332.035\teval-rmspe:0.11557\ttrain-rmspe:0.1068\n",
      "[224]\teval-rmse:591.615\ttrain-rmse:331.625\teval-rmspe:0.115577\ttrain-rmspe:0.104828\n",
      "[225]\teval-rmse:591.438\ttrain-rmse:330.867\teval-rmspe:0.115551\ttrain-rmspe:0.104692\n",
      "[226]\teval-rmse:591.435\ttrain-rmse:330.318\teval-rmspe:0.115294\ttrain-rmspe:0.104605\n",
      "[227]\teval-rmse:591.593\ttrain-rmse:329.707\teval-rmspe:0.115345\ttrain-rmspe:0.104521\n",
      "[228]\teval-rmse:591.492\ttrain-rmse:329.017\teval-rmspe:0.115369\ttrain-rmspe:0.104186\n",
      "[229]\teval-rmse:591.56\ttrain-rmse:328.371\teval-rmspe:0.115395\ttrain-rmspe:0.103383\n",
      "[230]\teval-rmse:591.348\ttrain-rmse:328.021\teval-rmspe:0.115356\ttrain-rmspe:0.103352\n",
      "[231]\teval-rmse:591.179\ttrain-rmse:327.227\teval-rmspe:0.115351\ttrain-rmspe:0.103248\n",
      "[232]\teval-rmse:591.324\ttrain-rmse:326.713\teval-rmspe:0.115492\ttrain-rmspe:0.103188\n",
      "[233]\teval-rmse:591.203\ttrain-rmse:326.366\teval-rmspe:0.115482\ttrain-rmspe:0.103171\n",
      "[234]\teval-rmse:591.194\ttrain-rmse:326.013\teval-rmspe:0.115499\ttrain-rmspe:0.103125\n",
      "[235]\teval-rmse:591.115\ttrain-rmse:325.251\teval-rmspe:0.115531\ttrain-rmspe:0.103053\n",
      "[236]\teval-rmse:591.009\ttrain-rmse:324.66\teval-rmspe:0.11553\ttrain-rmspe:0.102946\n",
      "[237]\teval-rmse:590.798\ttrain-rmse:324.113\teval-rmspe:0.115434\ttrain-rmspe:0.102858\n",
      "[238]\teval-rmse:590.828\ttrain-rmse:323.583\teval-rmspe:0.115443\ttrain-rmspe:0.102804\n",
      "[239]\teval-rmse:590.891\ttrain-rmse:323.053\teval-rmspe:0.11549\ttrain-rmspe:0.102759\n",
      "[240]\teval-rmse:590.953\ttrain-rmse:322.598\teval-rmspe:0.115488\ttrain-rmspe:0.102697\n",
      "[241]\teval-rmse:591.01\ttrain-rmse:322.067\teval-rmspe:0.11551\ttrain-rmspe:0.102656\n",
      "[242]\teval-rmse:591.108\ttrain-rmse:321.677\teval-rmspe:0.115508\ttrain-rmspe:0.102599\n",
      "[243]\teval-rmse:591.026\ttrain-rmse:321.118\teval-rmspe:0.115505\ttrain-rmspe:0.102558\n",
      "[244]\teval-rmse:590.996\ttrain-rmse:320.394\teval-rmspe:0.115483\ttrain-rmspe:0.102432\n",
      "[245]\teval-rmse:590.89\ttrain-rmse:319.918\teval-rmspe:0.115448\ttrain-rmspe:0.10241\n",
      "[246]\teval-rmse:590.791\ttrain-rmse:318.887\teval-rmspe:0.115262\ttrain-rmspe:0.102018\n",
      "[247]\teval-rmse:590.916\ttrain-rmse:318.327\teval-rmspe:0.115299\ttrain-rmspe:0.101924\n",
      "[248]\teval-rmse:590.969\ttrain-rmse:317.548\teval-rmspe:0.115372\ttrain-rmspe:0.101827\n",
      "[249]\teval-rmse:591.013\ttrain-rmse:317.101\teval-rmspe:0.115347\ttrain-rmspe:0.101757\n",
      "[250]\teval-rmse:590.969\ttrain-rmse:316.733\teval-rmspe:0.115354\ttrain-rmspe:0.101721\n",
      "[251]\teval-rmse:590.865\ttrain-rmse:316.202\teval-rmspe:0.11537\ttrain-rmspe:0.101662\n",
      "[252]\teval-rmse:590.916\ttrain-rmse:315.648\teval-rmspe:0.115373\ttrain-rmspe:0.101028\n",
      "[253]\teval-rmse:590.89\ttrain-rmse:315.252\teval-rmspe:0.115377\ttrain-rmspe:0.100961\n",
      "[254]\teval-rmse:590.933\ttrain-rmse:314.674\teval-rmspe:0.115401\ttrain-rmspe:0.100046\n",
      "[255]\teval-rmse:590.914\ttrain-rmse:314.226\teval-rmspe:0.115444\ttrain-rmspe:0.100021\n",
      "[256]\teval-rmse:591.11\ttrain-rmse:313.714\teval-rmspe:0.115461\ttrain-rmspe:0.099941\n",
      "[257]\teval-rmse:591.051\ttrain-rmse:313.27\teval-rmspe:0.11546\ttrain-rmspe:0.099908\n",
      "[258]\teval-rmse:591.12\ttrain-rmse:312.963\teval-rmspe:0.115477\ttrain-rmspe:0.099756\n",
      "[259]\teval-rmse:591.247\ttrain-rmse:312.4\teval-rmspe:0.115531\ttrain-rmspe:0.099644\n",
      "[260]\teval-rmse:591.336\ttrain-rmse:311.805\teval-rmspe:0.1156\ttrain-rmspe:0.099555\n",
      "[261]\teval-rmse:591.369\ttrain-rmse:311.331\teval-rmspe:0.115575\ttrain-rmspe:0.090672\n",
      "[262]\teval-rmse:591.289\ttrain-rmse:310.992\teval-rmspe:0.115557\ttrain-rmspe:0.090642\n",
      "[263]\teval-rmse:591.322\ttrain-rmse:310.4\teval-rmspe:0.115577\ttrain-rmspe:0.090478\n",
      "[264]\teval-rmse:591.191\ttrain-rmse:309.801\teval-rmspe:0.115567\ttrain-rmspe:0.090425\n",
      "[265]\teval-rmse:591.376\ttrain-rmse:309.221\teval-rmspe:0.115634\ttrain-rmspe:0.090348\n",
      "[266]\teval-rmse:591.526\ttrain-rmse:308.704\teval-rmspe:0.115708\ttrain-rmspe:0.090313\n",
      "[267]\teval-rmse:591.383\ttrain-rmse:307.962\teval-rmspe:0.115682\ttrain-rmspe:0.0899\n",
      "[268]\teval-rmse:591.374\ttrain-rmse:307.567\teval-rmspe:0.115661\ttrain-rmspe:0.089828\n",
      "[269]\teval-rmse:591.213\ttrain-rmse:306.855\teval-rmspe:0.115636\ttrain-rmspe:0.089752\n",
      "[270]\teval-rmse:591.302\ttrain-rmse:306.224\teval-rmspe:0.115618\ttrain-rmspe:0.089662\n",
      "[271]\teval-rmse:591.393\ttrain-rmse:305.446\teval-rmspe:0.115603\ttrain-rmspe:0.089528\n",
      "[272]\teval-rmse:591.396\ttrain-rmse:305.027\teval-rmspe:0.115641\ttrain-rmspe:0.089499\n",
      "[273]\teval-rmse:591.488\ttrain-rmse:304.363\teval-rmspe:0.115685\ttrain-rmspe:0.08937\n",
      "[274]\teval-rmse:591.596\ttrain-rmse:303.742\teval-rmspe:0.1157\ttrain-rmspe:0.089247\n",
      "[275]\teval-rmse:591.622\ttrain-rmse:303.165\teval-rmspe:0.115908\ttrain-rmspe:0.089147\n",
      "[276]\teval-rmse:591.569\ttrain-rmse:302.745\teval-rmspe:0.115893\ttrain-rmspe:0.089121\n",
      "[277]\teval-rmse:591.467\ttrain-rmse:302.276\teval-rmspe:0.115878\ttrain-rmspe:0.089049\n",
      "[278]\teval-rmse:591.377\ttrain-rmse:301.931\teval-rmspe:0.115841\ttrain-rmspe:0.089013\n",
      "[279]\teval-rmse:591.458\ttrain-rmse:301.514\teval-rmspe:0.115842\ttrain-rmspe:0.08898\n",
      "[280]\teval-rmse:591.768\ttrain-rmse:300.947\teval-rmspe:0.11588\ttrain-rmspe:0.08891\n",
      "[281]\teval-rmse:591.78\ttrain-rmse:300.484\teval-rmspe:0.11591\ttrain-rmspe:0.088896\n",
      "[282]\teval-rmse:591.869\ttrain-rmse:299.843\teval-rmspe:0.11594\ttrain-rmspe:0.088811\n",
      "[283]\teval-rmse:591.899\ttrain-rmse:299.452\teval-rmspe:0.116132\ttrain-rmspe:0.088742\n",
      "[284]\teval-rmse:591.883\ttrain-rmse:298.971\teval-rmspe:0.116135\ttrain-rmspe:0.088656\n",
      "[285]\teval-rmse:591.924\ttrain-rmse:298.419\teval-rmspe:0.116081\ttrain-rmspe:0.088626\n",
      "[286]\teval-rmse:591.905\ttrain-rmse:298.009\teval-rmspe:0.116079\ttrain-rmspe:0.088579\n",
      "[287]\teval-rmse:591.893\ttrain-rmse:297.459\teval-rmspe:0.116061\ttrain-rmspe:0.088496\n",
      "[288]\teval-rmse:591.843\ttrain-rmse:296.958\teval-rmspe:0.116051\ttrain-rmspe:0.088449\n",
      "[289]\teval-rmse:591.731\ttrain-rmse:296.662\teval-rmspe:0.116047\ttrain-rmspe:0.088444\n",
      "[290]\teval-rmse:591.611\ttrain-rmse:296.428\teval-rmspe:0.116054\ttrain-rmspe:0.088516\n",
      "[291]\teval-rmse:591.457\ttrain-rmse:295.829\teval-rmspe:0.116025\ttrain-rmspe:0.088424\n",
      "[292]\teval-rmse:591.423\ttrain-rmse:295.333\teval-rmspe:0.11603\ttrain-rmspe:0.088279\n",
      "[293]\teval-rmse:591.43\ttrain-rmse:294.817\teval-rmspe:0.116025\ttrain-rmspe:0.088224\n",
      "[294]\teval-rmse:591.295\ttrain-rmse:294.463\teval-rmspe:0.116006\ttrain-rmspe:0.088175\n",
      "[295]\teval-rmse:591.295\ttrain-rmse:293.912\teval-rmspe:0.116028\ttrain-rmspe:0.083008\n"
     ]
    },
    {
     "name": "stdout",
     "output_type": "stream",
     "text": [
      "[296]\teval-rmse:591.327\ttrain-rmse:293.249\teval-rmspe:0.116015\ttrain-rmspe:0.082935\n",
      "[297]\teval-rmse:591.293\ttrain-rmse:292.798\teval-rmspe:0.116007\ttrain-rmspe:0.082873\n",
      "[298]\teval-rmse:591.185\ttrain-rmse:292.456\teval-rmspe:0.115968\ttrain-rmspe:0.082831\n",
      "[299]\teval-rmse:591.091\ttrain-rmse:291.991\teval-rmspe:0.11591\ttrain-rmspe:0.082732\n"
     ]
    },
    {
     "ename": "NameError",
     "evalue": "name 'operator' is not defined",
     "output_type": "error",
     "traceback": [
      "\u001b[0;31m---------------------------------------------------------------------------\u001b[0m",
      "\u001b[0;31mNameError\u001b[0m                                 Traceback (most recent call last)",
      "\u001b[0;32m<ipython-input-140-c2fda6492a52>\u001b[0m in \u001b[0;36m<module>\u001b[0;34m()\u001b[0m\n\u001b[1;32m     65\u001b[0m \u001b[0mcreate_feature_map\u001b[0m\u001b[0;34m(\u001b[0m\u001b[0mdata_x_Valid\u001b[0m\u001b[0;34m.\u001b[0m\u001b[0mcolumns\u001b[0m\u001b[0;34m)\u001b[0m\u001b[0;34m\u001b[0m\u001b[0m\n\u001b[1;32m     66\u001b[0m \u001b[0mimportance\u001b[0m \u001b[0;34m=\u001b[0m \u001b[0mgbm\u001b[0m\u001b[0;34m.\u001b[0m\u001b[0mget_fscore\u001b[0m\u001b[0;34m(\u001b[0m\u001b[0mfmap\u001b[0m\u001b[0;34m=\u001b[0m\u001b[0;34m'xgb.fmap'\u001b[0m\u001b[0;34m)\u001b[0m\u001b[0;34m\u001b[0m\u001b[0m\n\u001b[0;32m---> 67\u001b[0;31m \u001b[0mimportance\u001b[0m \u001b[0;34m=\u001b[0m \u001b[0msorted\u001b[0m\u001b[0;34m(\u001b[0m\u001b[0mimportance\u001b[0m\u001b[0;34m.\u001b[0m\u001b[0mitems\u001b[0m\u001b[0;34m(\u001b[0m\u001b[0;34m)\u001b[0m\u001b[0;34m,\u001b[0m \u001b[0mkey\u001b[0m\u001b[0;34m=\u001b[0m\u001b[0moperator\u001b[0m\u001b[0;34m.\u001b[0m\u001b[0mitemgetter\u001b[0m\u001b[0;34m(\u001b[0m\u001b[0;36m1\u001b[0m\u001b[0;34m)\u001b[0m\u001b[0;34m)\u001b[0m\u001b[0;34m\u001b[0m\u001b[0m\n\u001b[0m\u001b[1;32m     68\u001b[0m \u001b[0;34m\u001b[0m\u001b[0m\n\u001b[1;32m     69\u001b[0m \u001b[0mdf\u001b[0m \u001b[0;34m=\u001b[0m \u001b[0mpd\u001b[0m\u001b[0;34m.\u001b[0m\u001b[0mDataFrame\u001b[0m\u001b[0;34m(\u001b[0m\u001b[0mimportance\u001b[0m\u001b[0;34m,\u001b[0m \u001b[0mcolumns\u001b[0m\u001b[0;34m=\u001b[0m\u001b[0;34m[\u001b[0m\u001b[0;34m'feature'\u001b[0m\u001b[0;34m,\u001b[0m \u001b[0;34m'fscore'\u001b[0m\u001b[0;34m]\u001b[0m\u001b[0;34m)\u001b[0m\u001b[0;34m\u001b[0m\u001b[0m\n",
      "\u001b[0;31mNameError\u001b[0m: name 'operator' is not defined"
     ]
    }
   ],
   "source": [
    "!open .\n",
    "# xgboost\n",
    "import xgboost as xgb\n",
    "import operator\n",
    "from sklearn import cross_validation\n",
    "\n",
    "def create_feature_map(features):\n",
    "    outfile = open('xgb.fmap', 'w')\n",
    "    for i, feat in enumerate(features):\n",
    "        outfile.write('{0}\\t{1}\\tq\\n'.format(i, feat))\n",
    "    outfile.close()\n",
    "    \n",
    "def ToWeight(y):\n",
    "    w = np.zeros(y.shape, dtype=float)\n",
    "    ind = y != 0\n",
    "    w[ind] = 1./(y[ind]**2)\n",
    "    return w\n",
    "\n",
    "\n",
    "def rmspe(yhat, y):\n",
    "    y = y.get_label()\n",
    "    w = ToWeight(y)\n",
    "    rmspe = np.sqrt(np.mean( w * (y - yhat)**2 ))\n",
    "    return \"rmspe\",rmspe\n",
    "\n",
    "params = {\"objective\": \"reg:linear\",\n",
    "          \"booster\" : \"gbtree\",\n",
    "          \"eta\": 0.3,\n",
    "          \"max_depth\": 12,\n",
    "          \"subsample\": 0.9,\n",
    "          \"colsample_bytree\": 0.7,\n",
    "          \"silent\": 1,\n",
    "          \"seed\":1301\n",
    "          }\n",
    "num_trees = 300\n",
    "\n",
    "# trainCount = len(data_all_Train)\n",
    "# beginFlag = 0\n",
    "# blockLen = 1000\n",
    "#     endFlag = min(trainCount - beginFlag,blockLen)+beginFlag-1\n",
    "#     data_all_Train[beginFlag:endFlag,:]\n",
    "#     beginFlag += blockLen\n",
    "    \n",
    "data_all_Train, data_all_Valid = cross_validation.train_test_split(data_all_Train, test_size=0.01,random_state=40)\n",
    "data_y_Train = data_all_Train[\"Sales\"]\n",
    "data_y_Valid = data_all_Valid[\"Sales\"]\n",
    "data_all_Train.drop(\"Sales\",axis=1,inplace=True)\n",
    "data_all_Valid.drop(\"Sales\",axis=1,inplace=True)\n",
    "data_x_Valid = data_all_Valid\n",
    "data_x_Train = data_all_Train\n",
    "dtrain = xgb.DMatrix(data_x_Train, data_y_Train)\n",
    "dvalid = xgb.DMatrix(data_x_Valid, data_y_Valid)\n",
    "dtest = xgb.DMatrix(data_x_test)\n",
    "watchlist = [(dvalid, 'eval'), (dtrain, 'train')]\n",
    "gbm = xgb.train(params, dtrain, num_trees,evals=watchlist, early_stopping_rounds=50,feval=rmspe, verbose_eval=True)\n",
    "data_y_test = gbm.predict(dtest)\n",
    "# data_y_test = np.expm1(data_y_test)\n",
    "# 输出\n",
    "f = open(\"submission_xgb_nodayin.csv\", \"w\")\n",
    "print(\"\\\"Id\\\",\\\"Sales\\\"\", file = f)\n",
    "for i in range(len(data_y_test)):\n",
    "    print(\"%d,%0.2f\"%(i+1, data_y_test[i]), file = f)\n",
    "f.close()\n",
    "\n",
    "#绘制重要性曲线\n",
    "create_feature_map(data_x_Valid.columns)\n",
    "importance = gbm.get_fscore(fmap='xgb.fmap')\n",
    "importance = sorted(importance.items(), key=operator.itemgetter(1))\n",
    "\n",
    "df = pd.DataFrame(importance, columns=['feature', 'fscore'])\n",
    "df['fscore'] = df['fscore'] / df['fscore'].sum()\n",
    "\n",
    "featp = df.plot(kind='barh', x='feature', y='fscore', legend=False, figsize=(6, 10))\n",
    "plt.title('XGBoost Feature Importance')\n",
    "plt.xlabel('relative importance')\n",
    "fig_featp = featp.get_figure()\n",
    "fig_featp.savefig('feature_importance_xgb.png', bbox_inches='tight', pad_inches=1)\n",
    "\n",
    "!open ."
   ]
  },
  {
   "cell_type": "code",
   "execution_count": null,
   "metadata": {
    "collapsed": true
   },
   "outputs": [],
   "source": [
    "'''\n",
    "Based on https://www.kaggle.com/justdoit/rossmann-store-sales/xgboost-in-python-with-rmspe/code\n",
    "Public Score :  0.11389\n",
    "Private Validation Score :  0.096959\n",
    "'''\n",
    "\n",
    "import pandas as pd\n",
    "import numpy as np\n",
    "from sklearn.cross_validation import train_test_split\n",
    "import xgboost as xgb\n",
    "import operator\n",
    "import matplotlib\n",
    "matplotlib.use(\"Agg\") #Needed to save figures\n",
    "import matplotlib.pyplot as plt\n",
    "\n",
    "def create_feature_map(features):\n",
    "    outfile = open('xgb.fmap', 'w')\n",
    "    for i, feat in enumerate(features):\n",
    "        outfile.write('{0}\\t{1}\\tq\\n'.format(i, feat))\n",
    "    outfile.close()\n",
    "\n",
    "def rmspe(y, yhat):\n",
    "    return np.sqrt(np.mean((yhat/y-1) ** 2))\n",
    "\n",
    "def rmspe_xg(yhat, y):\n",
    "    y = np.expm1(y.get_label())\n",
    "    yhat = np.expm1(yhat)\n",
    "    return \"rmspe\", rmspe(y,yhat)\n",
    "\n",
    "# Gather some features\n",
    "def build_features(features, data):\n",
    "    # remove NaNs\n",
    "    data.fillna(0, inplace=True)\n",
    "    data.loc[data.Open.isnull(), 'Open'] = 1\n",
    "    # Use some properties directly\n",
    "    features.extend(['Store', 'CompetitionDistance', 'Promo', 'Promo2', 'SchoolHoliday'])\n",
    "\n",
    "    # Label encode some features\n",
    "    features.extend(['StoreType', 'Assortment', 'StateHoliday'])\n",
    "    mappings = {'0':0, 'a':1, 'b':2, 'c':3, 'd':4}\n",
    "    data.StoreType.replace(mappings, inplace=True)\n",
    "    data.Assortment.replace(mappings, inplace=True)\n",
    "    data.StateHoliday.replace(mappings, inplace=True)\n",
    "\n",
    "    features.extend(['DayOfWeek', 'Month', 'Day', 'Year', 'WeekOfYear'])\n",
    "    data['Year'] = data.Date.dt.year\n",
    "    data['Month'] = data.Date.dt.month\n",
    "    data['Day'] = data.Date.dt.day\n",
    "    data['DayOfWeek'] = data.Date.dt.dayofweek\n",
    "    data['WeekOfYear'] = data.Date.dt.weekofyear\n",
    "\n",
    "    # CompetionOpen en PromoOpen from https://www.kaggle.com/ananya77041/rossmann-store-sales/randomforestpython/code\n",
    "    # Calculate time competition open time in months\n",
    "    features.append('CompetitionOpen')\n",
    "    data['CompetitionOpen'] = 12 * (data.Year - data.CompetitionOpenSinceYear) + \\\n",
    "        (data.Month - data.CompetitionOpenSinceMonth)\n",
    "    # Promo open time in months\n",
    "    features.append('PromoOpen')\n",
    "    data['PromoOpen'] = 12 * (data.Year - data.Promo2SinceYear) + \\\n",
    "        (data.WeekOfYear - data.Promo2SinceWeek) / 4.0\n",
    "    data['PromoOpen'] = data.PromoOpen.apply(lambda x: x if x > 0 else 0)\n",
    "    data.loc[data.Promo2SinceYear == 0, 'PromoOpen'] = 0\n",
    "\n",
    "    # Indicate that sales on that day are in promo interval\n",
    "    features.append('IsPromoMonth')\n",
    "    month2str = {1:'Jan', 2:'Feb', 3:'Mar', 4:'Apr', 5:'May', 6:'Jun', \\\n",
    "             7:'Jul', 8:'Aug', 9:'Sept', 10:'Oct', 11:'Nov', 12:'Dec'}\n",
    "    data['monthStr'] = data.Month.map(month2str)\n",
    "    data.loc[data.PromoInterval == 0, 'PromoInterval'] = ''\n",
    "    data['IsPromoMonth'] = 0\n",
    "    for interval in data.PromoInterval.unique():\n",
    "        if interval != '':\n",
    "            for month in interval.split(','):\n",
    "                data.loc[(data.monthStr == month) & (data.PromoInterval == interval), 'IsPromoMonth'] = 1\n",
    "\n",
    "    return data\n",
    "\n",
    "\n",
    "## Start of main script\n",
    "\n",
    "print(\"Load the training, test and store data using pandas\")\n",
    "types = {'CompetitionOpenSinceYear': np.dtype(int),\n",
    "         'CompetitionOpenSinceMonth': np.dtype(int),\n",
    "         'StateHoliday': np.dtype(str),\n",
    "         'Promo2SinceWeek': np.dtype(int),\n",
    "         'SchoolHoliday': np.dtype(float),\n",
    "         'PromoInterval': np.dtype(str)}\n",
    "train = pd.read_csv(\"../data/train.csv\", parse_dates=[2], dtype=types)\n",
    "test = pd.read_csv(\"../data/test.csv\", parse_dates=[3], dtype=types)\n",
    "store = pd.read_csv(\"../data/store.csv\")\n",
    "\n",
    "print(\"Assume store open, if not provided\")\n",
    "train.fillna(1, inplace=True)\n",
    "test.fillna(1, inplace=True)\n",
    "\n",
    "print(\"Consider only open stores for training. Closed stores wont count into the score.\")\n",
    "train = train[train[\"Open\"] != 0]\n",
    "print(\"Use only Sales bigger then zero. Simplifies calculation of rmspe\")\n",
    "train = train[train[\"Sales\"] > 0]\n",
    "\n",
    "print(\"Join with store\")\n",
    "train = pd.merge(train, store, on='Store')\n",
    "test = pd.merge(test, store, on='Store')\n",
    "\n",
    "features = []\n",
    "\n",
    "print(\"augment features\")\n",
    "build_features(features, train)\n",
    "build_features([], test)\n",
    "print(features)\n",
    "\n",
    "print('training data processed')\n",
    "\n",
    "params = {\"objective\": \"reg:linear\",\n",
    "          \"booster\" : \"gbtree\",\n",
    "          \"eta\": 0.3,\n",
    "          \"max_depth\": 10,\n",
    "          \"subsample\": 0.9,\n",
    "          \"colsample_bytree\": 0.7,\n",
    "          \"silent\": 1,\n",
    "          \"seed\": 1301\n",
    "          }\n",
    "num_boost_round = 300\n",
    "\n",
    "print(\"Train a XGBoost model\")\n",
    "X_train, X_valid = train_test_split(train, test_size=0.012, random_state=10)\n",
    "y_train = np.log1p(X_train.Sales)\n",
    "y_valid = np.log1p(X_valid.Sales)\n",
    "dtrain = xgb.DMatrix(X_train[features], y_train)\n",
    "dvalid = xgb.DMatrix(X_valid[features], y_valid)\n",
    "\n",
    "watchlist = [(dtrain, 'train'), (dvalid, 'eval')]\n",
    "gbm = xgb.train(params, dtrain, num_boost_round, evals=watchlist, \\\n",
    "  early_stopping_rounds=100, feval=rmspe_xg, verbose_eval=True)\n",
    "\n",
    "print(\"Validating\")\n",
    "yhat = gbm.predict(xgb.DMatrix(X_valid[features]))\n",
    "error = rmspe(X_valid.Sales.values, np.expm1(yhat))\n",
    "print('RMSPE: {:.6f}'.format(error))\n",
    "\n",
    "print(\"Make predictions on the test set\")\n",
    "dtest = xgb.DMatrix(test[features])\n",
    "test_probs = gbm.predict(dtest)\n",
    "# Make Submission\n",
    "result = pd.DataFrame({\"Id\": test[\"Id\"], 'Sales': np.expm1(test_probs)})\n",
    "result.to_csv(\"xgboost_10_submission.csv\", index=False)\n",
    "\n",
    "# XGB feature importances\n",
    "# Based on https://www.kaggle.com/mmueller/liberty-mutual-group-property-inspection-prediction/xgb-feature-importance-python/code\n",
    "\n",
    "create_feature_map(features)\n",
    "importance = gbm.get_fscore(fmap='xgb.fmap')\n",
    "importance = sorted(importance.items(), key=operator.itemgetter(1))\n",
    "\n",
    "df = pd.DataFrame(importance, columns=['feature', 'fscore'])\n",
    "df['fscore'] = df['fscore'] / df['fscore'].sum()\n",
    "\n",
    "featp = df.plot(kind='barh', x='feature', y='fscore', legend=False, figsize=(6, 10))\n",
    "plt.title('XGBoost Feature Importance')\n",
    "plt.xlabel('relative importance')\n",
    "fig_featp = featp.get_figure()\n",
    "fig_featp.savefig('feature_importance_xgb.png', bbox_inches='tight', pad_inches=1)"
   ]
  },
  {
   "cell_type": "code",
   "execution_count": null,
   "metadata": {
    "collapsed": true
   },
   "outputs": [],
   "source": [
    "print(data_x_Valid.columns)"
   ]
  }
 ],
 "metadata": {
  "kernelspec": {
   "display_name": "python36",
   "language": "python",
   "name": "python36"
  },
  "language_info": {
   "codemirror_mode": {
    "name": "ipython",
    "version": 3
   },
   "file_extension": ".py",
   "mimetype": "text/x-python",
   "name": "python",
   "nbconvert_exporter": "python",
   "pygments_lexer": "ipython3",
   "version": "3.6.1"
  }
 },
 "nbformat": 4,
 "nbformat_minor": 2
}
